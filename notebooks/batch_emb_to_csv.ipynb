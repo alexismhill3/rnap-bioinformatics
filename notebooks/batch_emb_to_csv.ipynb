{
 "cells": [
  {
   "cell_type": "code",
   "execution_count": 1,
   "id": "5284df5d-6f3b-4f9c-a332-8a1d40366785",
   "metadata": {},
   "outputs": [
    {
     "name": "stderr",
     "output_type": "stream",
     "text": [
      "/stor/home/amh7958/miniconda3/envs/efficient-evolution/lib/python3.9/site-packages/tqdm/auto.py:22: TqdmWarning: IProgress not found. Please update jupyter and ipywidgets. See https://ipywidgets.readthedocs.io/en/stable/user_install.html\n",
      "  from .autonotebook import tqdm as notebook_tqdm\n"
     ]
    }
   ],
   "source": [
    "import torch\n",
    "import numpy as np\n",
    "import csv\n",
    "import esm"
   ]
  },
  {
   "cell_type": "code",
   "execution_count": 2,
   "id": "c1ded3be-d98b-4a21-a2bb-d55a6ee912ba",
   "metadata": {},
   "outputs": [],
   "source": [
    "BP_FASTA_PATH = \"../data/ncbi-bacteriophage-human-meta.fasta\"\n",
    "BP_EMB_PATH = \"../output/ncbi-bacteriophage-human-meta_reprs\"\n",
    "EMB_LAYER = 33"
   ]
  },
  {
   "cell_type": "code",
   "execution_count": null,
   "id": "a0a683a3-90aa-4374-98c6-d358922ca64f",
   "metadata": {},
   "outputs": [],
   "source": [
    "with open('phage_metagenomic_embeddings.csv', 'a') as fl:\n",
    "    wr = csv.writer(fl)\n",
    "    for header, _seq in esm.data.read_fasta(BP_FASTA_PATH):\n",
    "        fn = f'{BP_EMB_PATH}/{header}.pt'\n",
    "        embs = torch.load(fn)\n",
    "        mean_repr = embs['mean_representations'][EMB_LAYER].numpy().tolist()\n",
    "        ID, desc = (header.split(\"|\")[0], header.split(\"|\")[1])\n",
    "        row = [ID, desc] + mean_repr\n",
    "        wr.writerow(row)\n",
    "\n",
    "#Xs = torch.stack(Xs, dim=0).numpy()"
   ]
  },
  {
   "cell_type": "code",
   "execution_count": 11,
   "id": "626e2684-ec16-41a6-a3c8-18fc8da53208",
   "metadata": {},
   "outputs": [],
   "source": [
    "import pandas as pd\n",
    "\n",
    "df = pd.read_csv('phage_metagenomic_embeddings.csv', header=None)"
   ]
  },
  {
   "cell_type": "code",
   "execution_count": 14,
   "id": "77bb04c9-15c4-4484-9feb-34917f337bc7",
   "metadata": {},
   "outputs": [
    {
     "data": {
      "text/plain": [
       "(10, 1280)"
      ]
     },
     "execution_count": 14,
     "metadata": {},
     "output_type": "execute_result"
    }
   ],
   "source": [
    "df.iloc[:10, 2:].to_numpy().shape"
   ]
  }
 ],
 "metadata": {
  "kernelspec": {
   "display_name": "Python 3 (ipykernel)",
   "language": "python",
   "name": "python3"
  },
  "language_info": {
   "codemirror_mode": {
    "name": "ipython",
    "version": 3
   },
   "file_extension": ".py",
   "mimetype": "text/x-python",
   "name": "python",
   "nbconvert_exporter": "python",
   "pygments_lexer": "ipython3",
   "version": "3.9.13"
  }
 },
 "nbformat": 4,
 "nbformat_minor": 5
}
